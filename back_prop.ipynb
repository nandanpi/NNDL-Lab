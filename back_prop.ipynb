{
 "cells": [
  {
   "cell_type": "code",
   "execution_count": 1,
   "metadata": {},
   "outputs": [],
   "source": [
    "import numpy as np\n",
    "\n",
    "x = np.array(([2,9],[1,5],[3,6]),dtype=float)\n",
    "y = np.array(([92],[86],[89]),dtype=float)\n",
    "\n",
    "x = x/np.amax(x,axis=0)\n",
    "y = y/100"
   ]
  },
  {
   "cell_type": "code",
   "execution_count": 2,
   "metadata": {},
   "outputs": [],
   "source": [
    "def sigmoid(x):\n",
    "    return 1/(1+np.exp(-x))\n",
    "\n",
    "def derivative_sigmoid(x):\n",
    "    return x*(1-x)"
   ]
  },
  {
   "cell_type": "code",
   "execution_count": 3,
   "metadata": {},
   "outputs": [],
   "source": [
    "epoch = 1000\n",
    "lr = 0.01\n",
    "\n",
    "ipl_neurons = 2\n",
    "hl_neurons = 3\n",
    "op_neurons = 1\n",
    "\n",
    "wh = np.random.uniform(size = (ipl_neurons, hl_neurons))\n",
    "bh = np.random.uniform(size = (1, hl_neurons))\n",
    "wout = np.random.uniform(size = (hl_neurons, op_neurons))\n",
    "bout = np.random.uniform(size = (1, op_neurons))"
   ]
  },
  {
   "cell_type": "code",
   "execution_count": 4,
   "metadata": {},
   "outputs": [
    {
     "name": "stdout",
     "output_type": "stream",
     "text": [
      "Input:  [[0.66666667 1.        ]\n",
      " [0.33333333 0.55555556]\n",
      " [1.         0.66666667]]\n",
      "Actual Output:  [[0.92]\n",
      " [0.86]\n",
      " [0.89]]\n",
      "Predicted Output:  [[0.89454772]\n",
      " [0.88546116]\n",
      " [0.89443562]]\n"
     ]
    }
   ],
   "source": [
    "for i in range(epoch):\n",
    "    #Forward Prop\n",
    "    hinp1= np.dot(x, wh)\n",
    "    hinp = hinp1 + bh\n",
    "    hlayer_act = sigmoid(hinp)\n",
    "\n",
    "    outinp1 = np.dot(hlayer_act, wout)\n",
    "    outinp = outinp1 + bout\n",
    "    output = sigmoid(outinp)\n",
    "\n",
    "    #Backpropogation\n",
    "    #Error at OL\n",
    "    EO = y-output\n",
    "    outgrad = derivative_sigmoid(output)\n",
    "    d_output = EO * outgrad\n",
    "\n",
    "    # Error at HL\n",
    "    EH = d_output.dot(wout.T)\n",
    "    hiddengrad = derivative_sigmoid(hlayer_act)\n",
    "    d_hiddenlayer = EH * hiddengrad\n",
    "\n",
    "    wout += hlayer_act.T.dot(d_output) * lr\n",
    "    wh += x.T.dot(d_hiddenlayer) * lr\n",
    "print(\"Input: \", x)\n",
    "print(\"Actual Output: \", y)\n",
    "print(\"Predicted Output: \", output)\n"
   ]
  },
  {
   "cell_type": "code",
   "execution_count": null,
   "metadata": {},
   "outputs": [],
   "source": []
  }
 ],
 "metadata": {
  "language_info": {
   "name": "python"
  }
 },
 "nbformat": 4,
 "nbformat_minor": 2
}
